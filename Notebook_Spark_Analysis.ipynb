{
 "cells": [
  {
   "cell_type": "markdown",
   "metadata": {},
   "source": [
    "# Basic analysis of the full dataset using PySpark"
   ]
  },
  {
   "cell_type": "markdown",
   "metadata": {},
   "source": [
    "## What's in this section ?\n",
    "- Here we load large datasets locally using Spark. We first load the full_ratings dataset to vizualise the distribution of the reviews and ratings.\n",
    "- Then we load the full dataset by category, for the moment we did Electronics and Office products. We use these datasets to vizualise the distribution of the reviews. "
   ]
  },
  {
   "cell_type": "code",
   "execution_count": 1,
   "metadata": {},
   "outputs": [],
   "source": [
    "# Import pyspark\n",
    "from pyspark.sql import SparkSession\n",
    "import pyspark.sql.functions as func\n",
    "from pyspark import SparkContext\n",
    "from pyspark import SparkConf\n",
    "import pandas as pd\n",
    "import numpy as np\n",
    "\n",
    "\n",
    "# Import the libraries to draw\n",
    "import matplotlib.pyplot as plt\n",
    "import seaborn as sns\n",
    "\n",
    "# Import helpers functions\n",
    "from spark_helpers import *\n",
    "\n",
    "#Create a spark session\n",
    "spark = SparkSession.builder.appName(\"Spark Session\").config(\"spark.sql.crossJoin.enabled\",\"true\").getOrCreate()\n",
    "sc = SparkContext.getOrCreate()"
   ]
  },
  {
   "cell_type": "markdown",
   "metadata": {},
   "source": [
    "## Full Ratings Analysis\n",
    "\n",
    "Firs, we study the distribution of the full ratings. To do that we load the full ratings (3.37Go) and treat it with PySpark. We will output the distribution of the number of products relative to the number of reviews (i.e 10 products have 15 reviews ...)."
   ]
  },
  {
   "cell_type": "code",
   "execution_count": 2,
   "metadata": {},
   "outputs": [
    {
     "name": "stdout",
     "output_type": "stream",
     "text": [
      "root\n",
      " |-- _c0: string (nullable = true)\n",
      " |-- _c1: string (nullable = true)\n",
      " |-- _c2: string (nullable = true)\n",
      " |-- _c3: string (nullable = true)\n",
      "\n"
     ]
    }
   ],
   "source": [
    "# Load the full ratings data\n",
    "df_full_ratings = spark.read.format('csv').option(\"header\",\"false\").load('all_ratings.csv')\n",
    "df_full_ratings.printSchema()"
   ]
  },
  {
   "cell_type": "code",
   "execution_count": 3,
   "metadata": {},
   "outputs": [
    {
     "data": {
      "text/plain": [
       "[Row(_c0='A3AF8FFZAZYNE5', _c1='0000000078', _c2='5.0', _c3='1092182400'),\n",
       " Row(_c0='AH2L9G3DQHHAJ', _c1='0000000116', _c2='4.0', _c3='1019865600'),\n",
       " Row(_c0='A2IIIDRK3PRRZY', _c1='0000000116', _c2='1.0', _c3='1395619200'),\n",
       " Row(_c0='A1TADCM7YWPQ8M', _c1='0000000868', _c2='4.0', _c3='1031702400'),\n",
       " Row(_c0='AWGH7V0BDOJKB', _c1='0000013714', _c2='4.0', _c3='1383177600'),\n",
       " Row(_c0='A3UTQPQPM4TQO0', _c1='0000013714', _c2='5.0', _c3='1374883200'),\n",
       " Row(_c0='A8ZS0I5L5V31B', _c1='0000013714', _c2='5.0', _c3='1393632000'),\n",
       " Row(_c0='ACNGUPJ3A3TM9', _c1='0000013714', _c2='4.0', _c3='1386028800'),\n",
       " Row(_c0='A3BED5QFJWK88M', _c1='0000013714', _c2='4.0', _c3='1350345600'),\n",
       " Row(_c0='A2SUAM1J3GNN3B', _c1='0000013714', _c2='5.0', _c3='1252800000')]"
      ]
     },
     "execution_count": 3,
     "metadata": {},
     "output_type": "execute_result"
    }
   ],
   "source": [
    "# Display the first 20 rows \n",
    "df_full_ratings.take(10)"
   ]
  },
  {
   "cell_type": "markdown",
   "metadata": {},
   "source": [
    "We see in the schema that the ratings and UNIX time are stored as string, to do computation on them we cast the columns as float numbers."
   ]
  },
  {
   "cell_type": "code",
   "execution_count": 4,
   "metadata": {},
   "outputs": [],
   "source": [
    "# Cast the ratings and UNIX time as float number\n",
    "df_full_ratings = df_full_ratings.select(df_full_ratings._c0, df_full_ratings._c1, df_full_ratings._c2.cast('float')\\\n",
    "                                         ,df_full_ratings._c3.cast('float'))"
   ]
  },
  {
   "cell_type": "code",
   "execution_count": 5,
   "metadata": {},
   "outputs": [
    {
     "name": "stdout",
     "output_type": "stream",
     "text": [
      "root\n",
      " |-- reviewerID: string (nullable = true)\n",
      " |-- asin: string (nullable = true)\n",
      " |-- ratings: float (nullable = true)\n",
      " |-- UNIX_time: float (nullable = true)\n",
      "\n"
     ]
    }
   ],
   "source": [
    "# Rename the columns and print the new schema\n",
    "df_full_ratings = df_full_ratings.selectExpr(\"_c0 as reviewerID\", \"_c1 as asin\", \"_c2 as ratings\", \"_c3 as UNIX_time\")\n",
    "df_full_ratings.printSchema()"
   ]
  },
  {
   "cell_type": "markdown",
   "metadata": {},
   "source": [
    "### Number of reviews by product\n",
    "First we compute the number of reviews by product to see its distribution."
   ]
  },
  {
   "cell_type": "code",
   "execution_count": 6,
   "metadata": {},
   "outputs": [],
   "source": [
    "# Do a Group By Product of all the ratings\n",
    "groupRatingsByProduct = df_full_ratings.groupBy('asin')\n",
    "# Compute the number of reviews by product\n",
    "ratings_count_by_product = groupRatingsByProduct.count()"
   ]
  },
  {
   "cell_type": "code",
   "execution_count": 7,
   "metadata": {},
   "outputs": [
    {
     "data": {
      "text/plain": [
       "[Row(asin='0001714422', count=2),\n",
       " Row(asin='0001837192', count=1),\n",
       " Row(asin='0001845357', count=1),\n",
       " Row(asin='0002151731', count=1),\n",
       " Row(asin='0002158140', count=1)]"
      ]
     },
     "execution_count": 7,
     "metadata": {},
     "output_type": "execute_result"
    }
   ],
   "source": [
    "ratings_count_by_product.take(5)"
   ]
  },
  {
   "cell_type": "code",
   "execution_count": 8,
   "metadata": {
    "scrolled": true
   },
   "outputs": [
    {
     "name": "stdout",
     "output_type": "stream",
     "text": [
      "root\n",
      " |-- asin: string (nullable = true)\n",
      " |-- number_of_review: long (nullable = false)\n",
      "\n"
     ]
    }
   ],
   "source": [
    "ratings_count_by_product = ratings_count_by_product.selectExpr('asin', 'count as number_of_review')\n",
    "ratings_count_by_product.printSchema()"
   ]
  },
  {
   "cell_type": "markdown",
   "metadata": {},
   "source": [
    "Here we have two options:\n",
    "\n",
    "- Collect the full dataframe with the number of reviews for each items, the problem with this approach is that we have a high number of products (a little less than 10M). So the pandas dataframe would be too large.\n",
    "\n",
    "- The second option is to group the spark dataframe by number of reviews, for example we group together all the products that have exactly 4 reviews. With this method we will significantly reduce the size of the dataframe and can use it with pandas. \n",
    "\n",
    "We went with the second option :"
   ]
  },
  {
   "cell_type": "code",
   "execution_count": 9,
   "metadata": {},
   "outputs": [],
   "source": [
    "# We group by the number of reviews\n",
    "groupByNumberOfReviews = ratings_count_by_product.groupBy('number_of_review')"
   ]
  },
  {
   "cell_type": "code",
   "execution_count": 10,
   "metadata": {},
   "outputs": [],
   "source": [
    "# We count the number of articles for each number of reviews\n",
    "tmp_df = groupByNumberOfReviews.count()\n",
    "# Some renaming for easier use\n",
    "tmp_df = tmp_df.selectExpr('number_of_review', 'count as number_of_product')"
   ]
  },
  {
   "cell_type": "code",
   "execution_count": 11,
   "metadata": {},
   "outputs": [],
   "source": [
    "# Compute the number of reviews by product as a pandas dataframe for easier use\n",
    "df_ratings_count_pd = tmp_df.toPandas()\n",
    "# Save the number of ratings by product to a csv files\n",
    "df_ratings_count_pd.to_csv('Full_ratings_count.csv')"
   ]
  },
  {
   "cell_type": "code",
   "execution_count": 12,
   "metadata": {
    "scrolled": false
   },
   "outputs": [
    {
     "data": {
      "text/html": [
       "<div>\n",
       "<style scoped>\n",
       "    .dataframe tbody tr th:only-of-type {\n",
       "        vertical-align: middle;\n",
       "    }\n",
       "\n",
       "    .dataframe tbody tr th {\n",
       "        vertical-align: top;\n",
       "    }\n",
       "\n",
       "    .dataframe thead th {\n",
       "        text-align: right;\n",
       "    }\n",
       "</style>\n",
       "<table border=\"1\" class=\"dataframe\">\n",
       "  <thead>\n",
       "    <tr style=\"text-align: right;\">\n",
       "      <th></th>\n",
       "      <th>number_of_review</th>\n",
       "      <th>number_of_product</th>\n",
       "    </tr>\n",
       "  </thead>\n",
       "  <tbody>\n",
       "    <tr>\n",
       "      <th>count</th>\n",
       "      <td>2802.000000</td>\n",
       "      <td>2.802000e+03</td>\n",
       "    </tr>\n",
       "    <tr>\n",
       "      <th>mean</th>\n",
       "      <td>2072.989650</td>\n",
       "      <td>3.523987e+03</td>\n",
       "    </tr>\n",
       "    <tr>\n",
       "      <th>std</th>\n",
       "      <td>2436.728958</td>\n",
       "      <td>9.448883e+04</td>\n",
       "    </tr>\n",
       "    <tr>\n",
       "      <th>min</th>\n",
       "      <td>1.000000</td>\n",
       "      <td>1.000000e+00</td>\n",
       "    </tr>\n",
       "    <tr>\n",
       "      <th>25%</th>\n",
       "      <td>701.250000</td>\n",
       "      <td>1.000000e+00</td>\n",
       "    </tr>\n",
       "    <tr>\n",
       "      <th>50%</th>\n",
       "      <td>1418.500000</td>\n",
       "      <td>3.000000e+00</td>\n",
       "    </tr>\n",
       "    <tr>\n",
       "      <th>75%</th>\n",
       "      <td>2482.250000</td>\n",
       "      <td>1.600000e+01</td>\n",
       "    </tr>\n",
       "    <tr>\n",
       "      <th>max</th>\n",
       "      <td>25368.000000</td>\n",
       "      <td>4.615058e+06</td>\n",
       "    </tr>\n",
       "  </tbody>\n",
       "</table>\n",
       "</div>"
      ],
      "text/plain": [
       "       number_of_review  number_of_product\n",
       "count       2802.000000       2.802000e+03\n",
       "mean        2072.989650       3.523987e+03\n",
       "std         2436.728958       9.448883e+04\n",
       "min            1.000000       1.000000e+00\n",
       "25%          701.250000       1.000000e+00\n",
       "50%         1418.500000       3.000000e+00\n",
       "75%         2482.250000       1.600000e+01\n",
       "max        25368.000000       4.615058e+06"
      ]
     },
     "execution_count": 12,
     "metadata": {},
     "output_type": "execute_result"
    }
   ],
   "source": [
    "df_ratings_count_pd.describe()"
   ]
  },
  {
   "cell_type": "code",
   "execution_count": 28,
   "metadata": {},
   "outputs": [
    {
     "name": "stdout",
     "output_type": "stream",
     "text": [
      "There is 9874211 in the dataset\n"
     ]
    }
   ],
   "source": [
    "number_of_product = df_ratings_count_pd.sum()\n",
    "number_of_product = number_of_product['number_of_product']\n",
    "print('There is ' + str(number_of_product) + ' products in the dataset')"
   ]
  },
  {
   "cell_type": "code",
   "execution_count": 14,
   "metadata": {},
   "outputs": [
    {
     "data": {
      "image/png": "[encoded data removed]",
      "text/plain": [
       "<matplotlib.figure.Figure at 0x1a10d0d9b0>"
      ]
     },
     "metadata": {},
     "output_type": "display_data"
    }
   ],
   "source": [
    "#Function used to draw the distribution of number of reviews per number of products\n",
    "draw_full_ratings('Full_ratings_count.csv')"
   ]
  },
  {
   "cell_type": "markdown",
   "metadata": {},
   "source": [
    "We nearly have a power law."
   ]
  },
  {
   "cell_type": "markdown",
   "metadata": {},
   "source": [
    "### Ratings distribution\n",
    "\n",
    "We now observe the distribution of the ratings."
   ]
  },
  {
   "cell_type": "code",
   "execution_count": 15,
   "metadata": {},
   "outputs": [],
   "source": [
    "# Do a Group By Product of all the ratings\n",
    "groupRatingsByRating = df_full_ratings.groupBy('ratings')\n",
    "# Compute the number of reviews by product\n",
    "ratings_count_by_rating = groupRatingsByRating.count()"
   ]
  },
  {
   "cell_type": "code",
   "execution_count": 16,
   "metadata": {},
   "outputs": [
    {
     "name": "stdout",
     "output_type": "stream",
     "text": [
      "root\n",
      " |-- ratings: float (nullable = true)\n",
      " |-- number_of_review: long (nullable = false)\n",
      "\n"
     ]
    }
   ],
   "source": [
    "ratings_count_by_rating = ratings_count_by_rating.selectExpr('ratings', 'count as number_of_review')\n",
    "ratings_count_by_rating.printSchema()"
   ]
  },
  {
   "cell_type": "code",
   "execution_count": 17,
   "metadata": {},
   "outputs": [],
   "source": [
    "# Compute the number of ratings by rating as a pandas dataframe for easier use\n",
    "df_ratings_distribution_pd = ratings_count_by_rating.toPandas()\n",
    "# Save the number of ratings by product to a csv files\n",
    "df_ratings_distribution_pd.to_csv('Full_ratings_distribution.csv')"
   ]
  },
  {
   "cell_type": "code",
   "execution_count": 18,
   "metadata": {},
   "outputs": [
    {
     "data": {
      "image/png": "[encoded data removed]",
      "text/plain": [
       "<matplotlib.figure.Figure at 0x1a18fcedd8>"
      ]
     },
     "metadata": {},
     "output_type": "display_data"
    }
   ],
   "source": [
    "ax = sns.barplot(x = df_ratings_distribution_pd['ratings'], y = df_ratings_distribution_pd['number_of_review'])\n",
    "ax.set_xlabel('Ratings')\n",
    "ax.set_ylabel('Number of Reviews')\n",
    "ax.set_title('Distribution of the ratings')\n",
    "plt.show()"
   ]
  },
  {
   "cell_type": "markdown",
   "metadata": {},
   "source": [
    "The ratings have a clear tendency to be >=4 "
   ]
  },
  {
   "cell_type": "markdown",
   "metadata": {},
   "source": [
    "## Analysis of the distribution for each categories"
   ]
  },
  {
   "cell_type": "markdown",
   "metadata": {},
   "source": [
    "Here are implemented functions used to load a category and output the distributions of the reviews"
   ]
  },
  {
   "cell_type": "markdown",
   "metadata": {},
   "source": [
    "### Electronics Data"
   ]
  },
  {
   "cell_type": "code",
   "execution_count": 19,
   "metadata": {},
   "outputs": [
    {
     "name": "stdout",
     "output_type": "stream",
     "text": [
      "root\n",
      " |-- asin: string (nullable = true)\n",
      " |-- helpful: array (nullable = true)\n",
      " |    |-- element: long (containsNull = true)\n",
      " |-- overall: double (nullable = true)\n",
      " |-- reviewText: string (nullable = true)\n",
      " |-- reviewTime: string (nullable = true)\n",
      " |-- reviewerID: string (nullable = true)\n",
      " |-- reviewerName: string (nullable = true)\n",
      " |-- summary: string (nullable = true)\n",
      " |-- unixReviewTime: long (nullable = true)\n",
      "\n",
      "There is 7824482 distinct reviews\n"
     ]
    }
   ],
   "source": [
    "# Function used to load a category dataset using spark\n",
    "df_electronics = load_file_cat(\"reviews_Electronics.json.gz\",'json',spark)\n",
    "# Get the number of distinct reviewers in the category\n",
    "distinct_reviews_electronics = df_electronics.count()\n",
    "print(\"There is \" + str(distinct_reviews_electronics) + \" distinct reviews\")"
   ]
  },
  {
   "cell_type": "code",
   "execution_count": 20,
   "metadata": {},
   "outputs": [],
   "source": [
    "# Function used to compute the number of review per product using a spark\n",
    "# dataframe and save it as a pandas dataframe\n",
    "df_review_count_electronics_pd = compute_review_per_product(df_electronics,'Electronics_Review_Count.csv')"
   ]
  },
  {
   "cell_type": "markdown",
   "metadata": {},
   "source": [
    "Let's vizualise the distribution :"
   ]
  },
  {
   "cell_type": "code",
   "execution_count": 21,
   "metadata": {},
   "outputs": [
    {
     "data": {
      "image/png": "[encoded data removed]",
      "text/plain": [
       "<matplotlib.figure.Figure at 0x1a18ec0a90>"
      ]
     },
     "metadata": {},
     "output_type": "display_data"
    }
   ],
   "source": [
    "#Function used to draw the distribution of number of reviews per\n",
    "#number of products\n",
    "draw_distribution(csv = 'Electronics_Review_Count.csv')"
   ]
  },
  {
   "cell_type": "code",
   "execution_count": 22,
   "metadata": {},
   "outputs": [
    {
     "data": {
      "text/html": [
       "<div>\n",
       "<style scoped>\n",
       "    .dataframe tbody tr th:only-of-type {\n",
       "        vertical-align: middle;\n",
       "    }\n",
       "\n",
       "    .dataframe tbody tr th {\n",
       "        vertical-align: top;\n",
       "    }\n",
       "\n",
       "    .dataframe thead th {\n",
       "        text-align: right;\n",
       "    }\n",
       "</style>\n",
       "<table border=\"1\" class=\"dataframe\">\n",
       "  <thead>\n",
       "    <tr style=\"text-align: right;\">\n",
       "      <th></th>\n",
       "      <th>count</th>\n",
       "    </tr>\n",
       "  </thead>\n",
       "  <tbody>\n",
       "    <tr>\n",
       "      <th>count</th>\n",
       "      <td>476002.000000</td>\n",
       "    </tr>\n",
       "    <tr>\n",
       "      <th>mean</th>\n",
       "      <td>16.437918</td>\n",
       "    </tr>\n",
       "    <tr>\n",
       "      <th>std</th>\n",
       "      <td>112.702633</td>\n",
       "    </tr>\n",
       "    <tr>\n",
       "      <th>min</th>\n",
       "      <td>1.000000</td>\n",
       "    </tr>\n",
       "    <tr>\n",
       "      <th>25%</th>\n",
       "      <td>1.000000</td>\n",
       "    </tr>\n",
       "    <tr>\n",
       "      <th>50%</th>\n",
       "      <td>2.000000</td>\n",
       "    </tr>\n",
       "    <tr>\n",
       "      <th>75%</th>\n",
       "      <td>7.000000</td>\n",
       "    </tr>\n",
       "    <tr>\n",
       "      <th>max</th>\n",
       "      <td>18244.000000</td>\n",
       "    </tr>\n",
       "  </tbody>\n",
       "</table>\n",
       "</div>"
      ],
      "text/plain": [
       "               count\n",
       "count  476002.000000\n",
       "mean       16.437918\n",
       "std       112.702633\n",
       "min         1.000000\n",
       "25%         1.000000\n",
       "50%         2.000000\n",
       "75%         7.000000\n",
       "max     18244.000000"
      ]
     },
     "execution_count": 22,
     "metadata": {},
     "output_type": "execute_result"
    }
   ],
   "source": [
    "# Compute the statistics of the number of reviews by product\n",
    "df_review_count_electronics_pd.describe()"
   ]
  },
  {
   "cell_type": "markdown",
   "metadata": {},
   "source": [
    "We see that the majority of products have less than 2 reviews, as we want to do a study on multiple reviews for each reviewer and products, we will use the 5-cores dataset for electronics."
   ]
  },
  {
   "cell_type": "markdown",
   "metadata": {},
   "source": [
    "### Office Products Data"
   ]
  },
  {
   "cell_type": "code",
   "execution_count": 24,
   "metadata": {},
   "outputs": [
    {
     "name": "stdout",
     "output_type": "stream",
     "text": [
      "root\n",
      " |-- asin: string (nullable = true)\n",
      " |-- helpful: array (nullable = true)\n",
      " |    |-- element: long (containsNull = true)\n",
      " |-- overall: double (nullable = true)\n",
      " |-- reviewText: string (nullable = true)\n",
      " |-- reviewTime: string (nullable = true)\n",
      " |-- reviewerID: string (nullable = true)\n",
      " |-- reviewerName: string (nullable = true)\n",
      " |-- summary: string (nullable = true)\n",
      " |-- unixReviewTime: long (nullable = true)\n",
      "\n",
      "There is 1243186 distinct reviews\n"
     ]
    }
   ],
   "source": [
    "df_office = load_file_cat(\"reviews_Office_Products.json.gz\",'json',spark)\n",
    "# Get the number of distinct reviewers in the category\n",
    "distinct_reviews_office = df_office.count()\n",
    "print(\"There is \" + str(distinct_reviews_office) + \" distinct reviews\")"
   ]
  },
  {
   "cell_type": "code",
   "execution_count": 25,
   "metadata": {},
   "outputs": [],
   "source": [
    "df_review_count_office_pd = compute_review_per_product(df_office,'Office_Review_Count.csv')"
   ]
  },
  {
   "cell_type": "markdown",
   "metadata": {},
   "source": [
    "Let's vizualise the distribution :"
   ]
  },
  {
   "cell_type": "code",
   "execution_count": 26,
   "metadata": {},
   "outputs": [
    {
     "data": {
      "image/png": "[encoded data removed]",
      "text/plain": [
       "<matplotlib.figure.Figure at 0x1a1b8375c0>"
      ]
     },
     "metadata": {},
     "output_type": "display_data"
    }
   ],
   "source": [
    "draw_distribution(csv = 'Office_Review_Count.csv')"
   ]
  },
  {
   "cell_type": "code",
   "execution_count": 27,
   "metadata": {},
   "outputs": [
    {
     "data": {
      "text/html": [
       "<div>\n",
       "<style scoped>\n",
       "    .dataframe tbody tr th:only-of-type {\n",
       "        vertical-align: middle;\n",
       "    }\n",
       "\n",
       "    .dataframe tbody tr th {\n",
       "        vertical-align: top;\n",
       "    }\n",
       "\n",
       "    .dataframe thead th {\n",
       "        text-align: right;\n",
       "    }\n",
       "</style>\n",
       "<table border=\"1\" class=\"dataframe\">\n",
       "  <thead>\n",
       "    <tr style=\"text-align: right;\">\n",
       "      <th></th>\n",
       "      <th>count</th>\n",
       "    </tr>\n",
       "  </thead>\n",
       "  <tbody>\n",
       "    <tr>\n",
       "      <th>count</th>\n",
       "      <td>130006.000000</td>\n",
       "    </tr>\n",
       "    <tr>\n",
       "      <th>mean</th>\n",
       "      <td>9.562528</td>\n",
       "    </tr>\n",
       "    <tr>\n",
       "      <th>std</th>\n",
       "      <td>44.592114</td>\n",
       "    </tr>\n",
       "    <tr>\n",
       "      <th>min</th>\n",
       "      <td>1.000000</td>\n",
       "    </tr>\n",
       "    <tr>\n",
       "      <th>25%</th>\n",
       "      <td>1.000000</td>\n",
       "    </tr>\n",
       "    <tr>\n",
       "      <th>50%</th>\n",
       "      <td>2.000000</td>\n",
       "    </tr>\n",
       "    <tr>\n",
       "      <th>75%</th>\n",
       "      <td>5.000000</td>\n",
       "    </tr>\n",
       "    <tr>\n",
       "      <th>max</th>\n",
       "      <td>4398.000000</td>\n",
       "    </tr>\n",
       "  </tbody>\n",
       "</table>\n",
       "</div>"
      ],
      "text/plain": [
       "               count\n",
       "count  130006.000000\n",
       "mean        9.562528\n",
       "std        44.592114\n",
       "min         1.000000\n",
       "25%         1.000000\n",
       "50%         2.000000\n",
       "75%         5.000000\n",
       "max      4398.000000"
      ]
     },
     "execution_count": 27,
     "metadata": {},
     "output_type": "execute_result"
    }
   ],
   "source": [
    "# Compute the quantiles of the number of reviews by product\n",
    "df_review_count_office_pd.describe()"
   ]
  },
  {
   "cell_type": "markdown",
   "metadata": {},
   "source": [
    "## What's next in this section ?\n",
    "\n",
    "- We will expand our analysis to the other categories.\n",
    "- We will also analyze the UNIX time of the reviews (already load in the full_ratings)."
   ]
  }
 ],
 "metadata": {
  "kernelspec": {
   "display_name": "Python 3",
   "language": "python",
   "name": "python3"
  },
  "language_info": {
   "codemirror_mode": {
    "name": "ipython",
    "version": 3
   },
   "file_extension": ".py",
   "mimetype": "text/x-python",
   "name": "python",
   "nbconvert_exporter": "python",
   "pygments_lexer": "ipython3",
   "version": "3.6.3"
  }
 },
 "nbformat": 4,
 "nbformat_minor": 2
}
